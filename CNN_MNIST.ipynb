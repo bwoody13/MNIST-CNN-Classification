{
  "cells": [
    {
      "cell_type": "markdown",
      "metadata": {
        "id": "view-in-github",
        "colab_type": "text"
      },
      "source": [
        "<a href=\"https://colab.research.google.com/github/bwoody13/MNIST-CNN-Classification/blob/main/CNN_MNIST.ipynb\" target=\"_parent\"><img src=\"https://colab.research.google.com/assets/colab-badge.svg\" alt=\"Open In Colab\"/></a>"
      ]
    },
    {
      "cell_type": "code",
      "execution_count": null,
      "metadata": {
        "id": "cbi3tOWEA4MZ"
      },
      "outputs": [],
      "source": [
        "import torch\n",
        "from torch import nn\n",
        "import numpy as np\n",
        "from torchvision import transforms\n",
        "from torchvision.datasets import MNIST\n",
        "from torchvision.transforms import ToTensor, Normalize\n",
        "import torch.nn.functional as F\n",
        "import torch.optim as optim\n",
        "from torch.utils.data.dataloader import DataLoader\n",
        "from torch.utils.data import random_split\n",
        "import matplotlib.pyplot as plt"
      ]
    },
    {
      "cell_type": "code",
      "execution_count": null,
      "metadata": {
        "colab": {
          "base_uri": "https://localhost:8080/"
        },
        "id": "do2zpgy9C2Iq",
        "outputId": "31cb27b4-1097-474f-a904-5c21a09cdaa1"
      },
      "outputs": [
        {
          "data": {
            "text/plain": [
              "device(type='cuda')"
            ]
          },
          "execution_count": 2,
          "metadata": {},
          "output_type": "execute_result"
        }
      ],
      "source": [
        "device = torch.device('cuda' if torch.cuda.is_available() else 'cpu')\n",
        "device"
      ]
    },
    {
      "cell_type": "markdown",
      "metadata": {
        "id": "gU7Yt0LHv9qK"
      },
      "source": [
        "# Load Dataset for MNIST"
      ]
    },
    {
      "cell_type": "code",
      "execution_count": null,
      "metadata": {
        "colab": {
          "base_uri": "https://localhost:8080/"
        },
        "id": "u2OX2fj3VAA9",
        "outputId": "b01d3954-7553-4b49-bcff-e56477b7b816"
      },
      "outputs": [
        {
          "name": "stdout",
          "output_type": "stream",
          "text": [
            "Downloading http://yann.lecun.com/exdb/mnist/train-images-idx3-ubyte.gz\n",
            "Downloading http://yann.lecun.com/exdb/mnist/train-images-idx3-ubyte.gz to data/MNIST/raw/train-images-idx3-ubyte.gz\n"
          ]
        },
        {
          "name": "stderr",
          "output_type": "stream",
          "text": [
            "100%|██████████| 9912422/9912422 [00:00<00:00, 154209146.84it/s]"
          ]
        },
        {
          "name": "stdout",
          "output_type": "stream",
          "text": [
            "Extracting data/MNIST/raw/train-images-idx3-ubyte.gz to data/MNIST/raw\n"
          ]
        },
        {
          "name": "stderr",
          "output_type": "stream",
          "text": [
            "\n"
          ]
        },
        {
          "name": "stdout",
          "output_type": "stream",
          "text": [
            "\n",
            "Downloading http://yann.lecun.com/exdb/mnist/train-labels-idx1-ubyte.gz\n",
            "Downloading http://yann.lecun.com/exdb/mnist/train-labels-idx1-ubyte.gz to data/MNIST/raw/train-labels-idx1-ubyte.gz\n"
          ]
        },
        {
          "name": "stderr",
          "output_type": "stream",
          "text": [
            "100%|██████████| 28881/28881 [00:00<00:00, 29792349.69it/s]"
          ]
        },
        {
          "name": "stdout",
          "output_type": "stream",
          "text": [
            "Extracting data/MNIST/raw/train-labels-idx1-ubyte.gz to data/MNIST/raw\n",
            "\n",
            "Downloading http://yann.lecun.com/exdb/mnist/t10k-images-idx3-ubyte.gz\n"
          ]
        },
        {
          "name": "stderr",
          "output_type": "stream",
          "text": [
            "\n"
          ]
        },
        {
          "name": "stdout",
          "output_type": "stream",
          "text": [
            "Downloading http://yann.lecun.com/exdb/mnist/t10k-images-idx3-ubyte.gz to data/MNIST/raw/t10k-images-idx3-ubyte.gz\n"
          ]
        },
        {
          "name": "stderr",
          "output_type": "stream",
          "text": [
            "100%|██████████| 1648877/1648877 [00:00<00:00, 31555637.97it/s]"
          ]
        },
        {
          "name": "stdout",
          "output_type": "stream",
          "text": [
            "Extracting data/MNIST/raw/t10k-images-idx3-ubyte.gz to data/MNIST/raw\n",
            "\n",
            "Downloading http://yann.lecun.com/exdb/mnist/t10k-labels-idx1-ubyte.gz\n",
            "Downloading http://yann.lecun.com/exdb/mnist/t10k-labels-idx1-ubyte.gz to data/MNIST/raw/t10k-labels-idx1-ubyte.gz\n"
          ]
        },
        {
          "name": "stderr",
          "output_type": "stream",
          "text": [
            "\n",
            "100%|██████████| 4542/4542 [00:00<00:00, 4581656.75it/s]\n"
          ]
        },
        {
          "name": "stdout",
          "output_type": "stream",
          "text": [
            "Extracting data/MNIST/raw/t10k-labels-idx1-ubyte.gz to data/MNIST/raw\n",
            "\n"
          ]
        }
      ],
      "source": [
        "data_mean = 0.1307\n",
        "data_std = 0.3081\n",
        "init_trans = transforms.Compose([\n",
        "    ToTensor(),\n",
        "    Normalize((data_mean,), (data_std,))\n",
        "])\n",
        "dataset = MNIST(root='data/', train=True, download=True, transform=init_trans)\n",
        "test_ds = MNIST(root='data/', train=False, download=True, transform=init_trans)"
      ]
    },
    {
      "cell_type": "code",
      "execution_count": null,
      "metadata": {
        "id": "S64sFf7388J8"
      },
      "outputs": [],
      "source": [
        "val_size = int(0.1 * len(dataset))\n",
        "train_size = len(dataset) - val_size\n",
        "train_dataset, val_dataset = random_split(dataset, [train_size, val_size])"
      ]
    },
    {
      "cell_type": "markdown",
      "metadata": {
        "id": "DrsT43MPwEEZ"
      },
      "source": [
        "# Get visual for data"
      ]
    },
    {
      "cell_type": "code",
      "execution_count": null,
      "metadata": {
        "colab": {
          "base_uri": "https://localhost:8080/"
        },
        "id": "9Q92oZB8nZxC",
        "outputId": "06aad247-f0c7-48c2-ef45-e1486381c20f"
      },
      "outputs": [
        {
          "data": {
            "text/plain": [
              "torch.Size([32, 1, 28, 28])"
            ]
          },
          "execution_count": 5,
          "metadata": {},
          "output_type": "execute_result"
        }
      ],
      "source": [
        "examples = enumerate(DataLoader(dataset, 32, shuffle=True))\n",
        "batch_idx, (example_data, example_targets) = next(examples)\n",
        "example_data.shape"
      ]
    },
    {
      "cell_type": "code",
      "execution_count": null,
      "metadata": {
        "colab": {
          "base_uri": "https://localhost:8080/",
          "height": 463
        },
        "id": "J4SOpF1xngQw",
        "outputId": "1d942714-fa85-4abb-b924-0d7d696b10c1"
      },
      "outputs": [
        {
          "data": {
            "image/png": "[encoded data removed]",
            "text/plain": [
              "<Figure size 640x480 with 12 Axes>"
            ]
          },
          "metadata": {},
          "output_type": "display_data"
        }
      ],
      "source": [
        "fig = plt.figure()\n",
        "for i in range(12):\n",
        "  plt.subplot(3, 4, i+1)\n",
        "  plt.tight_layout()\n",
        "  plt.imshow(example_data[i][0], cmap='gray', interpolation='none')\n",
        "  plt.title(\"Label: {}\".format(example_targets[i]))\n",
        "  plt.xticks([])\n",
        "  plt.yticks([])\n",
        "\n",
        "plt.show()"
      ]
    },
    {
      "cell_type": "markdown",
      "metadata": {
        "id": "EXNbYgTUwJU8"
      },
      "source": [
        "# Building the CNN"
      ]
    },
    {
      "cell_type": "code",
      "execution_count": null,
      "metadata": {
        "id": "bLces-Mna9KM"
      },
      "outputs": [],
      "source": [
        "class MyCNN(nn.Module):\n",
        "    def __init__(\n",
        "        self,\n",
        "        epochs=10,\n",
        "        learning_rate=0.01,\n",
        "        batch_size=64,\n",
        "        weight_decay=0,\n",
        "        momentum=0,\n",
        "        device=None\n",
        "        ):\n",
        "        super(MyCNN, self).__init__()\n",
        "        self.learning_rate = learning_rate\n",
        "        self.epochs = epochs\n",
        "        self.batch_size = batch_size\n",
        "        self.weight_decay = weight_decay\n",
        "        self.momentum = momentum\n",
        "        self.criterion = nn.CrossEntropyLoss()\n",
        "        self.device = device if device != None else torch.device('cuda:0' if torch.cuda.is_available() else 'cpu')\n",
        "\n",
        "        # Layers\n",
        "        self.conv1 = nn.Conv2d(1, 32, 3, 1, 1)\n",
        "        self.conv2 = nn.Conv2d(32, 64, 3, 1, 1)\n",
        "        self.pool1 = nn.MaxPool2d(2, 2)\n",
        "        self.pool2 = nn.MaxPool2d(2, 2)\n",
        "        self.dropout1 = nn.Dropout(0.15)\n",
        "        self.dropout2 = nn.Dropout(0.35)\n",
        "        self.fc1 = nn.Linear(64*7*7, 128)\n",
        "        self.fc2 = nn.Linear(128, 10)\n",
        "\n",
        "    def forward(self, x):\n",
        "        x = F.relu(self.conv1(x))\n",
        "        x = self.pool1(x)\n",
        "        x = F.relu(self.conv2(x))\n",
        "        x = self.pool2(x)\n",
        "        x = self.dropout1(x)\n",
        "        x = torch.flatten(x, 1)\n",
        "        x = self.fc1(x)\n",
        "        x = F.relu(x)\n",
        "        x = self.dropout2(x)\n",
        "        x = self.fc2(x)\n",
        "        output = F.log_softmax(x, dim=1)\n",
        "        return output\n",
        "\n",
        "    def make_optimizer(self):\n",
        "        return optim.SGD(\n",
        "            self.parameters(), lr=self.learning_rate, weight_decay=self.weight_decay, momentum=self.momentum\n",
        "        )"
      ]
    },
    {
      "cell_type": "markdown",
      "metadata": {
        "id": "96f-3lIGwMkW"
      },
      "source": [
        "## Training Functions"
      ]
    },
    {
      "cell_type": "code",
      "execution_count": null,
      "metadata": {
        "id": "GieeRJgAX_HZ"
      },
      "outputs": [],
      "source": [
        "def validate_model(model: MyCNN, validation_loader: DataLoader):\n",
        "    model.eval()\n",
        "    validation_loss = 0\n",
        "    correct = 0\n",
        "\n",
        "    with torch.no_grad():\n",
        "        for data, target in validation_loader:\n",
        "            data, target = data.to(model.device), target.to(model.device)\n",
        "            output = model(data)\n",
        "            validation_loss += F.nll_loss(output, target, reduction='sum').item()\n",
        "            pred = output.argmax(dim=1, keepdim=True)\n",
        "            correct += pred.eq(target.view_as(pred)).sum().item()\n",
        "\n",
        "    validation_loss /= len(validation_loader.dataset)\n",
        "    accuracy = correct / len(validation_loader.dataset)\n",
        "\n",
        "    return validation_loss, accuracy"
      ]
    },
    {
      "cell_type": "code",
      "execution_count": 14,
      "metadata": {
        "id": "3unVMzJUHj2n"
      },
      "outputs": [],
      "source": [
        "def train(model: MyCNN, train_loader: DataLoader, val_loader: DataLoader):\n",
        "    model.to(model.device)\n",
        "    train_losses = []\n",
        "    train_counter = []\n",
        "\n",
        "    optimizer = model.make_optimizer()\n",
        "\n",
        "    # Adding transforms to data to make less dependent on training data\n",
        "    additional_transforms = transforms.Compose([\n",
        "        transforms.RandomRotation(degrees=15)\n",
        "    ])\n",
        "\n",
        "    # For early stopping\n",
        "    best_accuracy = 0.0\n",
        "    earlystop_patience = 2\n",
        "    earlystop_count = 0\n",
        "\n",
        "    for epoch in range(model.epochs):\n",
        "        model.train()  # Set the model to training mode\n",
        "        running_loss = 0.0\n",
        "\n",
        "        for i, (inputs, labels) in enumerate(train_loader, 0):\n",
        "            inputs, labels = inputs.to(model.device), labels.to(model.device)\n",
        "            trans_inputs = additional_transforms(inputs)\n",
        "            # Zero the parameter gradients\n",
        "            optimizer.zero_grad()\n",
        "\n",
        "            # Forward pass\n",
        "            outputs = model(trans_inputs)\n",
        "\n",
        "            # Calculate the loss\n",
        "            loss = model.criterion(outputs, labels)\n",
        "\n",
        "            # Backpropagation\n",
        "            loss.backward()\n",
        "\n",
        "            # Update the weights\n",
        "            optimizer.step()\n",
        "\n",
        "            # Print statistics\n",
        "            running_loss += loss.item()\n",
        "            if i % 100 == 99:  # Print every 100 batches\n",
        "                print(f'Epoch {epoch + 1}, Batch {i + 1}, Loss: {running_loss / 100:.4f}')\n",
        "                # Store train loss\n",
        "                train_losses.append(running_loss / 100)\n",
        "                train_counter.append(\n",
        "                    epoch + (i / len(train_loader))\n",
        "                )\n",
        "                running_loss = 0.0\n",
        "\n",
        "\n",
        "        # Validation\n",
        "        validation_loss, validation_accuracy = validate_model(model, val_loader)\n",
        "        print(f'Validation Loss: {validation_loss:.4f}, Validation Accuracy: {validation_accuracy * 100:.2f}%')\n",
        "\n",
        "        # Check Early Stopping\n",
        "        if validation_accuracy > best_accuracy:\n",
        "            best_accuracy = validation_accuracy\n",
        "            earlystop_count = 0\n",
        "        else:\n",
        "            earlystop_count += 1\n",
        "\n",
        "        if earlystop_count > earlystop_patience:\n",
        "            print(f\"Early stopping! No improvement for the last {earlystop_patience} epochs.\")\n",
        "            break\n",
        "\n",
        "    plt.figure()\n",
        "    plt.plot(train_counter, train_losses, color='blue')\n",
        "    plt.xlabel('Epoch (values between ints indicate batches)')\n",
        "    plt.ylabel('Training Loss')\n",
        "    plt.title('Training Loss vs. Epoch')\n",
        "    plt.show()\n"
      ]
    },
    {
      "cell_type": "markdown",
      "metadata": {
        "id": "yPRCEbQMwRQe"
      },
      "source": [
        "## Testing Functions"
      ]
    },
    {
      "cell_type": "code",
      "execution_count": 23,
      "metadata": {
        "id": "AciYG_voMIV9"
      },
      "outputs": [],
      "source": [
        "def test(model: MyCNN, test_loader: DataLoader):\n",
        "    model.eval()\n",
        "    test_loss = 0\n",
        "    correct = 0\n",
        "    with torch.no_grad():\n",
        "        for data, target in test_loader:\n",
        "            data, target = data.to(model.device), target.to(model.device)\n",
        "            output = model(data)\n",
        "            test_loss += F.nll_loss(output, target, reduction='sum').item()\n",
        "            pred = output.argmax(dim=1, keepdim=True)\n",
        "            correct += pred.eq(target.view_as(pred)).sum().item()\n",
        "\n",
        "    test_loss /= len(test_loader.dataset)\n",
        "    accuracy = 100. * correct / len(test_loader.dataset)\n",
        "\n",
        "    print(f'\\nTest set: Average loss: {test_loss:.4f}, Accuracy: {correct}/{len(test_loader.dataset)} ({accuracy:.2f}%)')"
      ]
    },
    {
      "cell_type": "markdown",
      "metadata": {
        "id": "ag0N885CwTyj"
      },
      "source": [
        "# Running the Model"
      ]
    },
    {
      "cell_type": "code",
      "execution_count": 17,
      "metadata": {
        "id": "hUYawZkehGw-"
      },
      "outputs": [],
      "source": [
        "model = MyCNN(momentum=0.9, learning_rate=0.01, weight_decay=1e-5)"
      ]
    },
    {
      "cell_type": "code",
      "execution_count": 12,
      "metadata": {
        "id": "iV10FJI_n3oP"
      },
      "outputs": [],
      "source": [
        "num_workers = 2 if 'cuda' in model.device.type else 0\n",
        "pin_memory = True if 'cuda' in model.device.type else False\n",
        "\n",
        "train_loader = DataLoader(train_dataset, model.batch_size, shuffle=True)\n",
        "val_loader = DataLoader(val_dataset, model.batch_size)\n",
        "test_loader = DataLoader(test_ds, model.batch_size)"
      ]
    },
    {
      "cell_type": "code",
      "execution_count": 18,
      "metadata": {
        "colab": {
          "base_uri": "https://localhost:8080/",
          "height": 1000
        },
        "id": "ZQtw8_Z3PY17",
        "outputId": "24e24546-6df0-4f4a-f220-9a6b8b646a6d"
      },
      "outputs": [
        {
          "output_type": "stream",
          "name": "stdout",
          "text": [
            "Epoch 1, Batch 100, Loss: 1.0506\n",
            "Epoch 1, Batch 200, Loss: 0.3263\n",
            "Epoch 1, Batch 300, Loss: 0.2520\n",
            "Epoch 1, Batch 400, Loss: 0.1979\n",
            "Epoch 1, Batch 500, Loss: 0.1897\n",
            "Epoch 1, Batch 600, Loss: 0.1607\n",
            "Epoch 1, Batch 700, Loss: 0.1398\n",
            "Epoch 1, Batch 800, Loss: 0.1379\n",
            "Validation Loss: 0.0648, Validation Accuracy: 98.05%\n",
            "Epoch 2, Batch 100, Loss: 0.1266\n",
            "Epoch 2, Batch 200, Loss: 0.1311\n",
            "Epoch 2, Batch 300, Loss: 0.1089\n",
            "Epoch 2, Batch 400, Loss: 0.1064\n",
            "Epoch 2, Batch 500, Loss: 0.1013\n",
            "Epoch 2, Batch 600, Loss: 0.1176\n",
            "Epoch 2, Batch 700, Loss: 0.1078\n",
            "Epoch 2, Batch 800, Loss: 0.1012\n",
            "Validation Loss: 0.0424, Validation Accuracy: 98.68%\n",
            "Epoch 3, Batch 100, Loss: 0.0896\n",
            "Epoch 3, Batch 200, Loss: 0.0979\n",
            "Epoch 3, Batch 300, Loss: 0.0869\n",
            "Epoch 3, Batch 400, Loss: 0.0879\n",
            "Epoch 3, Batch 500, Loss: 0.0778\n",
            "Epoch 3, Batch 600, Loss: 0.0822\n",
            "Epoch 3, Batch 700, Loss: 0.0849\n",
            "Epoch 3, Batch 800, Loss: 0.0868\n",
            "Validation Loss: 0.0375, Validation Accuracy: 98.83%\n",
            "Epoch 4, Batch 100, Loss: 0.0795\n",
            "Epoch 4, Batch 200, Loss: 0.0789\n",
            "Epoch 4, Batch 300, Loss: 0.0758\n",
            "Epoch 4, Batch 400, Loss: 0.0641\n",
            "Epoch 4, Batch 500, Loss: 0.0730\n",
            "Epoch 4, Batch 600, Loss: 0.0811\n",
            "Epoch 4, Batch 700, Loss: 0.0749\n",
            "Epoch 4, Batch 800, Loss: 0.0704\n",
            "Validation Loss: 0.0345, Validation Accuracy: 98.95%\n",
            "Epoch 5, Batch 100, Loss: 0.0591\n",
            "Epoch 5, Batch 200, Loss: 0.0571\n",
            "Epoch 5, Batch 300, Loss: 0.0671\n",
            "Epoch 5, Batch 400, Loss: 0.0632\n",
            "Epoch 5, Batch 500, Loss: 0.0641\n",
            "Epoch 5, Batch 600, Loss: 0.0689\n",
            "Epoch 5, Batch 700, Loss: 0.0630\n",
            "Epoch 5, Batch 800, Loss: 0.0597\n",
            "Validation Loss: 0.0294, Validation Accuracy: 99.13%\n",
            "Epoch 6, Batch 100, Loss: 0.0515\n",
            "Epoch 6, Batch 200, Loss: 0.0568\n",
            "Epoch 6, Batch 300, Loss: 0.0537\n",
            "Epoch 6, Batch 400, Loss: 0.0520\n",
            "Epoch 6, Batch 500, Loss: 0.0623\n",
            "Epoch 6, Batch 600, Loss: 0.0578\n",
            "Epoch 6, Batch 700, Loss: 0.0629\n",
            "Epoch 6, Batch 800, Loss: 0.0621\n",
            "Validation Loss: 0.0285, Validation Accuracy: 99.12%\n",
            "Epoch 7, Batch 100, Loss: 0.0514\n",
            "Epoch 7, Batch 200, Loss: 0.0562\n",
            "Epoch 7, Batch 300, Loss: 0.0491\n",
            "Epoch 7, Batch 400, Loss: 0.0502\n",
            "Epoch 7, Batch 500, Loss: 0.0557\n",
            "Epoch 7, Batch 600, Loss: 0.0576\n",
            "Epoch 7, Batch 700, Loss: 0.0482\n",
            "Epoch 7, Batch 800, Loss: 0.0447\n",
            "Validation Loss: 0.0314, Validation Accuracy: 99.08%\n",
            "Epoch 8, Batch 100, Loss: 0.0509\n",
            "Epoch 8, Batch 200, Loss: 0.0472\n",
            "Epoch 8, Batch 300, Loss: 0.0509\n",
            "Epoch 8, Batch 400, Loss: 0.0434\n",
            "Epoch 8, Batch 500, Loss: 0.0578\n",
            "Epoch 8, Batch 600, Loss: 0.0494\n",
            "Epoch 8, Batch 700, Loss: 0.0434\n",
            "Epoch 8, Batch 800, Loss: 0.0474\n",
            "Validation Loss: 0.0275, Validation Accuracy: 99.25%\n",
            "Epoch 9, Batch 100, Loss: 0.0421\n",
            "Epoch 9, Batch 200, Loss: 0.0521\n",
            "Epoch 9, Batch 300, Loss: 0.0492\n",
            "Epoch 9, Batch 400, Loss: 0.0382\n",
            "Epoch 9, Batch 500, Loss: 0.0528\n",
            "Epoch 9, Batch 600, Loss: 0.0415\n",
            "Epoch 9, Batch 700, Loss: 0.0423\n",
            "Epoch 9, Batch 800, Loss: 0.0537\n",
            "Validation Loss: 0.0272, Validation Accuracy: 99.25%\n",
            "Epoch 10, Batch 100, Loss: 0.0385\n",
            "Epoch 10, Batch 200, Loss: 0.0478\n",
            "Epoch 10, Batch 300, Loss: 0.0346\n",
            "Epoch 10, Batch 400, Loss: 0.0450\n",
            "Epoch 10, Batch 500, Loss: 0.0432\n",
            "Epoch 10, Batch 600, Loss: 0.0337\n",
            "Epoch 10, Batch 700, Loss: 0.0403\n",
            "Epoch 10, Batch 800, Loss: 0.0537\n",
            "Validation Loss: 0.0267, Validation Accuracy: 99.28%\n"
          ]
        },
        {
          "output_type": "display_data",
          "data": {
            "text/plain": [
              "<Figure size 640x480 with 1 Axes>"
            ],
            "image/png": "[encoded data removed]"
          },
          "metadata": {}
        }
      ],
      "source": [
        "train(model, train_loader, val_loader)"
      ]
    },
    {
      "cell_type": "code",
      "source": [
        "test(model, train_loader)"
      ],
      "metadata": {
        "colab": {
          "base_uri": "https://localhost:8080/"
        },
        "id": "VAk8FdWKo2yx",
        "outputId": "851db0d5-2cf8-4c71-c477-f5b3c93e25d5"
      },
      "execution_count": 24,
      "outputs": [
        {
          "output_type": "stream",
          "name": "stdout",
          "text": [
            "\n",
            "Test set: Average loss: 0.0142, Accuracy: 53774/54000 (99.58%)\n"
          ]
        }
      ]
    },
    {
      "cell_type": "code",
      "execution_count": 25,
      "metadata": {
        "colab": {
          "base_uri": "https://localhost:8080/"
        },
        "id": "kWqy59pDPaKS",
        "outputId": "33aee6ef-00ae-4746-dbbf-5d5556d73364"
      },
      "outputs": [
        {
          "output_type": "stream",
          "name": "stdout",
          "text": [
            "\n",
            "Test set: Average loss: 0.0211, Accuracy: 9929/10000 (99.29%)\n"
          ]
        }
      ],
      "source": [
        "test(model, test_loader)"
      ]
    },
    {
      "cell_type": "markdown",
      "metadata": {
        "id": "zgXya1qEhIWg"
      },
      "source": []
    },
    {
      "cell_type": "markdown",
      "metadata": {
        "id": "i9AczvwUwc_M"
      },
      "source": [
        "# Saving / Reloading Model"
      ]
    },
    {
      "cell_type": "code",
      "execution_count": 29,
      "metadata": {
        "id": "q6YLppS6wche"
      },
      "outputs": [],
      "source": [
        "# Note parent dir must exist and you must mount to drive to save this way.\n",
        "# You can just save to root and it will make a tmp file if you do not want to mount drive and set up additional files\n",
        "def save_model(model, name, parent_dir=\"drive/MyDrive/Colab Notebooks/MNIST/models\"):\n",
        "    torch.save(model, f\"{parent_dir}/{name}.pth\")"
      ]
    },
    {
      "cell_type": "code",
      "execution_count": 27,
      "metadata": {
        "id": "xvUy-FAUwvCn"
      },
      "outputs": [],
      "source": [
        "def load_model(name, parent_dir=\"drive/MyDrive/Colab Notebooks/MNIST/models\"):\n",
        "    model = torch.load(f\"{parent_dir}/{name}.pth\")\n",
        "    model.eval()\n",
        "    return model"
      ]
    },
    {
      "cell_type": "code",
      "execution_count": 28,
      "metadata": {
        "id": "6RYRE8cKxrVT"
      },
      "outputs": [],
      "source": [
        "save_model(model, \"99_29-Test\")"
      ]
    },
    {
      "cell_type": "code",
      "execution_count": null,
      "metadata": {
        "id": "FxvSRDvZxvRA"
      },
      "outputs": [],
      "source": [
        "loaded_model = load_model(\"99_29-Test\")"
      ]
    },
    {
      "cell_type": "code",
      "execution_count": null,
      "metadata": {
        "id": "z98JhRB1Jk2S"
      },
      "outputs": [],
      "source": [
        "test(loaded_model, test_loader)"
      ]
    }
  ],
  "metadata": {
    "accelerator": "GPU",
    "colab": {
      "collapsed_sections": [
        "yPRCEbQMwRQe"
      ],
      "provenance": [],
      "mount_file_id": "1n4NN3c2XTTkJt3iRVf3PWH2PwKw84-CK",
      "authorship_tag": "ABX9TyMzzGeHzUg0iYTgBjU1P4CY",
      "include_colab_link": true
    },
    "kernelspec": {
      "display_name": "Python 3",
      "name": "python3"
    },
    "language_info": {
      "name": "python"
    }
  },
  "nbformat": 4,
  "nbformat_minor": 0
}